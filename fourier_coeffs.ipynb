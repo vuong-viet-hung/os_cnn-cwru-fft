{
 "cells": [
  {
   "cell_type": "code",
   "execution_count": 1,
   "metadata": {},
   "outputs": [],
   "source": [
    "import json\n",
    "import shutil\n",
    "from pathlib import Path"
   ]
  },
  {
   "cell_type": "code",
   "execution_count": 2,
   "metadata": {},
   "outputs": [],
   "source": [
    "import scipy\n",
    "import numpy as np\n",
    "import matplotlib.pyplot as plt\n",
    "from sklearn.model_selection import train_test_split"
   ]
  },
  {
   "cell_type": "code",
   "execution_count": 3,
   "metadata": {},
   "outputs": [],
   "source": [
    "LABELS_PATH = Path(\"labels.json\")"
   ]
  },
  {
   "cell_type": "code",
   "execution_count": 4,
   "metadata": {},
   "outputs": [],
   "source": [
    "FOURIER_COEFFS_DIR = Path(\"fourier_coeffs\")"
   ]
  },
  {
   "cell_type": "code",
   "execution_count": 5,
   "metadata": {},
   "outputs": [],
   "source": [
    "SAMPLE_SIZE = 4098"
   ]
  },
  {
   "cell_type": "code",
   "execution_count": 6,
   "metadata": {},
   "outputs": [],
   "source": [
    "SAMPLING_FREQ = 12000"
   ]
  },
  {
   "cell_type": "code",
   "execution_count": 7,
   "metadata": {},
   "outputs": [],
   "source": [
    "label_map = json.loads(LABELS_PATH.read_text())"
   ]
  },
  {
   "cell_type": "code",
   "execution_count": 8,
   "metadata": {},
   "outputs": [
    {
     "data": {
      "text/plain": [
       "{'CWRU-dataset-main/Normal': 0,\n",
       " 'CWRU-dataset-main/12k_Drive_End_Bearing_Fault_Data/IR/007': 1,\n",
       " 'CWRU-dataset-main/12k_Drive_End_Bearing_Fault_Data/IR/014': 2,\n",
       " 'CWRU-dataset-main/12k_Drive_End_Bearing_Fault_Data/IR/021': 3,\n",
       " 'CWRU-dataset-main/12k_Drive_End_Bearing_Fault_Data/B/007': 4,\n",
       " 'CWRU-dataset-main/12k_Drive_End_Bearing_Fault_Data/B/014': 5,\n",
       " 'CWRU-dataset-main/12k_Drive_End_Bearing_Fault_Data/B/021': 6,\n",
       " 'CWRU-dataset-main/12k_Drive_End_Bearing_Fault_Data/OR/007/@3': 7,\n",
       " 'CWRU-dataset-main/12k_Drive_End_Bearing_Fault_Data/OR/007/@6': 7,\n",
       " 'CWRU-dataset-main/12k_Drive_End_Bearing_Fault_Data/OR/007/@12': 7,\n",
       " 'CWRU-dataset-main/12k_Drive_End_Bearing_Fault_Data/OR/014': 8,\n",
       " 'CWRU-dataset-main/12k_Drive_End_Bearing_Fault_Data/OR/021/@3': 9,\n",
       " 'CWRU-dataset-main/12k_Drive_End_Bearing_Fault_Data/OR/021/@6': 9,\n",
       " 'CWRU-dataset-main/12k_Drive_End_Bearing_Fault_Data/OR/021/@12': 9}"
      ]
     },
     "execution_count": 8,
     "metadata": {},
     "output_type": "execute_result"
    }
   ],
   "source": [
    "label_map"
   ]
  },
  {
   "cell_type": "code",
   "execution_count": 9,
   "metadata": {},
   "outputs": [],
   "source": [
    "if FOURIER_COEFFS_DIR.exists():\n",
    "    shutil.rmtree(FOURIER_COEFFS_DIR)"
   ]
  },
  {
   "cell_type": "code",
   "execution_count": 10,
   "metadata": {},
   "outputs": [],
   "source": [
    "def sample(signal, sample_size):\n",
    "    remainder = len(signal) % sample_size\n",
    "    signal = signal[:-remainder]\n",
    "    signal_samples = signal.reshape(-1, sample_size)\n",
    "    return signal_samples"
   ]
  },
  {
   "cell_type": "code",
   "execution_count": 11,
   "metadata": {},
   "outputs": [],
   "source": [
    "def transform(signal_samples):\n",
    "    fourier_coeffs_samples = []\n",
    "\n",
    "    for signal_sample in signal_samples:\n",
    "        fourier_coeffs = np.abs(np.fft.fft(signal_sample))\n",
    "        fourier_coeffs = fourier_coeffs[:len(fourier_coeffs) // 2]\n",
    "        fourier_coeffs_samples.append(fourier_coeffs)\n",
    "\n",
    "    return np.vstack(fourier_coeffs_samples)"
   ]
  },
  {
   "cell_type": "code",
   "execution_count": 12,
   "metadata": {},
   "outputs": [],
   "source": [
    "for signal_dir, label in label_map.items():\n",
    "    for signal_path in Path(signal_dir).rglob(\"*.mat\"):\n",
    "        data = scipy.io.loadmat(str(signal_path))\n",
    "        signal_name = signal_path.stem\n",
    "        signal_name, *_, load = signal_name.split(\"_\")\n",
    "        signal_name, *_ = signal_name.split(\"@\")\n",
    "        signal = data[f\"X{int(signal_name):03}_DE_time\"].squeeze()\n",
    "\n",
    "        signal_samples = sample(signal, SAMPLE_SIZE)\n",
    "        fourier_coeffs_samples = transform(signal_samples)\n",
    "        labels = label * np.ones((len(signal_samples), 1))\n",
    "        transformed_data = np.concatenate([fourier_coeffs_samples, labels], axis=1)\n",
    "        train_data, test_data = train_test_split(transformed_data, test_size=0.3)\n",
    "\n",
    "        for phase, transformed_data in zip([\"train\", \"test\"], [train_data, test_data]):\n",
    "            fourier_coeffs_path = FOURIER_COEFFS_DIR / phase / str(label) / f\"{load}.mat\"\n",
    "\n",
    "            if fourier_coeffs_path.exists():\n",
    "                saved_data = scipy.io.loadmat(str(fourier_coeffs_path))[\"data\"]\n",
    "                transformed_data = np.concatenate([saved_data, transformed_data], axis=0)\n",
    "                \n",
    "            fourier_coeffs_path.parent.mkdir(exist_ok=True, parents=True)\n",
    "            scipy.io.savemat(str(fourier_coeffs_path), {\"data\": transformed_data})"
   ]
  },
  {
   "cell_type": "code",
   "execution_count": 13,
   "metadata": {},
   "outputs": [],
   "source": [
    "sample_path = Path(\"fourier_coeffs/train/1/0.mat\")"
   ]
  },
  {
   "cell_type": "code",
   "execution_count": 14,
   "metadata": {},
   "outputs": [],
   "source": [
    "data = scipy.io.loadmat(str(sample_path))[\"data\"]"
   ]
  },
  {
   "cell_type": "code",
   "execution_count": 15,
   "metadata": {},
   "outputs": [],
   "source": [
    "labels = data[:, -1]"
   ]
  },
  {
   "cell_type": "code",
   "execution_count": 16,
   "metadata": {},
   "outputs": [
    {
     "data": {
      "text/plain": [
       "(20,)"
      ]
     },
     "execution_count": 16,
     "metadata": {},
     "output_type": "execute_result"
    }
   ],
   "source": [
    "labels.shape"
   ]
  },
  {
   "cell_type": "code",
   "execution_count": 17,
   "metadata": {},
   "outputs": [
    {
     "data": {
      "text/plain": [
       "array([1., 1., 1., 1., 1., 1., 1., 1., 1., 1., 1., 1., 1., 1., 1., 1., 1.,\n",
       "       1., 1., 1.])"
      ]
     },
     "execution_count": 17,
     "metadata": {},
     "output_type": "execute_result"
    }
   ],
   "source": [
    "labels"
   ]
  },
  {
   "cell_type": "code",
   "execution_count": 18,
   "metadata": {},
   "outputs": [],
   "source": [
    "fourier_coeffs_samples = data[:, :SAMPLE_SIZE // 2]"
   ]
  },
  {
   "cell_type": "code",
   "execution_count": 19,
   "metadata": {},
   "outputs": [
    {
     "data": {
      "text/plain": [
       "(20, 2049)"
      ]
     },
     "execution_count": 19,
     "metadata": {},
     "output_type": "execute_result"
    }
   ],
   "source": [
    "fourier_coeffs_samples.shape"
   ]
  },
  {
   "cell_type": "code",
   "execution_count": 20,
   "metadata": {},
   "outputs": [],
   "source": [
    "fourier_coeffs = fourier_coeffs_samples[0]"
   ]
  },
  {
   "cell_type": "code",
   "execution_count": 21,
   "metadata": {},
   "outputs": [],
   "source": [
    "fourier_freqs = np.fft.fftfreq(SAMPLE_SIZE, 1 / SAMPLING_FREQ)\n",
    "fourier_freqs = fourier_freqs[:SAMPLE_SIZE // 2]"
   ]
  },
  {
   "cell_type": "code",
   "execution_count": 22,
   "metadata": {},
   "outputs": [
    {
     "data": {
      "text/plain": [
       "[<matplotlib.lines.Line2D at 0x7f4eb9c92e50>]"
      ]
     },
     "execution_count": 22,
     "metadata": {},
     "output_type": "execute_result"
    },
    {
     "data": {
      "image/png": "[encoded data removed]",
      "text/plain": [
       "<Figure size 640x480 with 1 Axes>"
      ]
     },
     "metadata": {},
     "output_type": "display_data"
    }
   ],
   "source": [
    "plt.plot(fourier_freqs, fourier_coeffs)"
   ]
  }
 ],
 "metadata": {
  "kernelspec": {
   "display_name": ".venv",
   "language": "python",
   "name": "python3"
  },
  "language_info": {
   "codemirror_mode": {
    "name": "ipython",
    "version": 3
   },
   "file_extension": ".py",
   "mimetype": "text/x-python",
   "name": "python",
   "nbconvert_exporter": "python",
   "pygments_lexer": "ipython3",
   "version": "3.9.16"
  },
  "orig_nbformat": 4
 },
 "nbformat": 4,
 "nbformat_minor": 2
}
