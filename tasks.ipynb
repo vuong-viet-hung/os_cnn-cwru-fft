{
 "cells": [
  {
   "cell_type": "code",
   "execution_count": 1,
   "metadata": {},
   "outputs": [],
   "source": [
    "import json\n",
    "import shutil\n",
    "from pathlib import Path"
   ]
  },
  {
   "cell_type": "code",
   "execution_count": 2,
   "metadata": {},
   "outputs": [],
   "source": [
    "import scipy\n",
    "import numpy as np"
   ]
  },
  {
   "cell_type": "code",
   "execution_count": 3,
   "metadata": {},
   "outputs": [],
   "source": [
    "TASKS_PATH = Path(\"tasks.json\")\n",
    "FOURIER_COEFFS_DIR = Path(\"fourier_coeffs\")\n",
    "TASKS_DIR = Path(\"dataset/CRWU\")"
   ]
  },
  {
   "cell_type": "code",
   "execution_count": 4,
   "metadata": {},
   "outputs": [],
   "source": [
    "tasks = json.loads(TASKS_PATH.read_text())"
   ]
  },
  {
   "cell_type": "code",
   "execution_count": 5,
   "metadata": {},
   "outputs": [
    {
     "data": {
      "text/plain": [
       "[[0, 1, 2, 3, 4, 5, 6],\n",
       " [0, 1, 2, 3, 7, 8, 9],\n",
       " [0, 4, 5, 6, 7, 8, 9],\n",
       " [0, 1, 2, 4, 5, 7, 8],\n",
       " [0, 2, 3, 5, 6, 8, 9],\n",
       " [0, 1, 3, 4, 6, 7, 9]]"
      ]
     },
     "execution_count": 5,
     "metadata": {},
     "output_type": "execute_result"
    }
   ],
   "source": [
    "tasks"
   ]
  },
  {
   "cell_type": "code",
   "execution_count": 6,
   "metadata": {},
   "outputs": [],
   "source": [
    "if TASKS_DIR.exists():\n",
    "    shutil.rmtree(TASKS_DIR)"
   ]
  },
  {
   "cell_type": "code",
   "execution_count": 7,
   "metadata": {},
   "outputs": [],
   "source": [
    "for task, labels in enumerate(tasks):\n",
    "    task_dir = TASKS_DIR / f\"CRWU{task}\"\n",
    "    task_dir.mkdir(parents=True)\n",
    "\n",
    "    for load in range(4):\n",
    "        train_data_name = f\"C{task}_{load}\"\n",
    "        test_data_name = f\"C{task}_{load}_\"\n",
    "        train_labels = labels\n",
    "        test_labels = range(10)\n",
    "\n",
    "        for phase, labels, data_name in zip(\n",
    "            [\"train\", \"test\"], [train_labels, test_labels], [train_data_name, test_data_name]\n",
    "        ):\n",
    "            data_path = task_dir / f\"{data_name}.mat\"\n",
    "            data_samples = []\n",
    "\n",
    "            for label in labels:\n",
    "                fourier_coeffs_path = FOURIER_COEFFS_DIR / phase / str(label) / f\"{load}.mat\"\n",
    "                data = scipy.io.loadmat(str(fourier_coeffs_path))[\"data\"]\n",
    "                data_samples.extend(data)\n",
    "\n",
    "            data_samples = np.vstack(data_samples)\n",
    "            scipy.io.savemat(str(data_path), {data_name: data_samples})"
   ]
  },
  {
   "cell_type": "code",
   "execution_count": 8,
   "metadata": {},
   "outputs": [],
   "source": [
    "sample_path = Path(\"dataset/CRWU/CRWU0/C0_0.mat\")"
   ]
  },
  {
   "cell_type": "code",
   "execution_count": 9,
   "metadata": {},
   "outputs": [],
   "source": [
    "data = scipy.io.loadmat(str(sample_path))[\"C0_0\"]"
   ]
  },
  {
   "cell_type": "code",
   "execution_count": 10,
   "metadata": {},
   "outputs": [
    {
     "data": {
      "text/plain": [
       "(161, 2050)"
      ]
     },
     "execution_count": 10,
     "metadata": {},
     "output_type": "execute_result"
    }
   ],
   "source": [
    "data.shape"
   ]
  }
 ],
 "metadata": {
  "kernelspec": {
   "display_name": ".venv",
   "language": "python",
   "name": "python3"
  },
  "language_info": {
   "codemirror_mode": {
    "name": "ipython",
    "version": 3
   },
   "file_extension": ".py",
   "mimetype": "text/x-python",
   "name": "python",
   "nbconvert_exporter": "python",
   "pygments_lexer": "ipython3",
   "version": "3.9.16"
  },
  "orig_nbformat": 4
 },
 "nbformat": 4,
 "nbformat_minor": 2
}
