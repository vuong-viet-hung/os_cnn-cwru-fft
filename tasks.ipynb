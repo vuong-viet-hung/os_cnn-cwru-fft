{
 "cells": [
  {
   "cell_type": "code",
   "execution_count": 19,
   "metadata": {},
   "outputs": [],
   "source": [
    "import json\n",
    "import shutil\n",
    "from pathlib import Path"
   ]
  },
  {
   "cell_type": "code",
   "execution_count": 20,
   "metadata": {},
   "outputs": [],
   "source": [
    "import scipy\n",
    "import numpy as np"
   ]
  },
  {
   "cell_type": "code",
   "execution_count": 21,
   "metadata": {},
   "outputs": [],
   "source": [
    "TASKS_PATH = Path(\"tasks.json\")\n",
    "FOURIER_COEFFS_DIR = Path(\"fourier_coeffs\")\n",
    "TASKS_DIR = Path(\"dataset/CRWU\")"
   ]
  },
  {
   "cell_type": "code",
   "execution_count": 22,
   "metadata": {},
   "outputs": [],
   "source": [
    "task_map = json.loads(TASKS_PATH.read_text())"
   ]
  },
  {
   "cell_type": "code",
   "execution_count": 23,
   "metadata": {},
   "outputs": [
    {
     "data": {
      "text/plain": [
       "{'0': [0, 1, 2, 3, 4, 5, 6],\n",
       " '1': [0, 1, 2, 3, 7, 8, 9],\n",
       " '2': [0, 4, 5, 6, 7, 8, 9],\n",
       " '3': [0, 1, 2, 4, 5, 7, 8],\n",
       " '4': [0, 2, 3, 5, 6, 8, 9],\n",
       " '5': [0, 1, 3, 4, 6, 7, 9]}"
      ]
     },
     "execution_count": 23,
     "metadata": {},
     "output_type": "execute_result"
    }
   ],
   "source": [
    "task_map"
   ]
  },
  {
   "cell_type": "code",
   "execution_count": 24,
   "metadata": {},
   "outputs": [],
   "source": [
    "if TASKS_DIR.exists():\n",
    "    shutil.rmtree(TASKS_DIR)"
   ]
  },
  {
   "cell_type": "code",
   "execution_count": 25,
   "metadata": {},
   "outputs": [],
   "source": [
    "for task, labels in task_map.items():\n",
    "    task_dir = TASKS_DIR / f\"CRWU{task}\"\n",
    "    task_dir.mkdir(parents=True)\n",
    "\n",
    "    for load in range(4):\n",
    "        # Train data\n",
    "        train_data_name = f\"C{task}_{load}\"\n",
    "        train_data_path = task_dir / f\"{train_data_name}.mat\"\n",
    "        train_labels = sorted(labels)\n",
    "        train_data = []\n",
    "\n",
    "        for label in train_labels:\n",
    "            coeffs_path = FOURIER_COEFFS_DIR / \"train\" / str(label) / f\"{load}.mat\"\n",
    "            coeffs_samples = scipy.io.loadmat(str(coeffs_path))[\"data\"]\n",
    "            ordered_label = train_labels.index(label)\n",
    "            ordered_labels = ordered_label * np.ones((len(coeffs_samples), 1))\n",
    "            train_data.extend(np.concatenate([coeffs_samples, ordered_labels], axis=1))\n",
    "\n",
    "        train_data = np.vstack(train_data)\n",
    "        scipy.io.savemat(str(train_data_path), {train_data_name: train_data})\n",
    "\n",
    "        # Test data\n",
    "        test_data_name = f\"C{task}_{load}_\"\n",
    "        test_data_path = task_dir / f\"{test_data_name}.mat\"\n",
    "        unknown_labels = list(set(range(10)) - set(train_labels))\n",
    "        unknown_labels.sort()\n",
    "        test_labels = train_labels + unknown_labels\n",
    "        test_data = []\n",
    "\n",
    "        for label in test_labels:\n",
    "            coeffs_path = FOURIER_COEFFS_DIR / \"test\" / str(label) / f\"{load}.mat\"\n",
    "            coeffs_samples = scipy.io.loadmat(str(coeffs_path))[\"data\"]\n",
    "            ordered_label = test_labels.index(label)\n",
    "            ordered_labels = ordered_label * np.ones((len(coeffs_samples), 1))\n",
    "            test_data.extend(np.concatenate([coeffs_samples, ordered_labels], axis=1))\n",
    "\n",
    "        test_data = np.vstack(test_data)\n",
    "        scipy.io.savemat(str(test_data_path), {test_data_name: test_data})"
   ]
  },
  {
   "cell_type": "code",
   "execution_count": 31,
   "metadata": {},
   "outputs": [],
   "source": [
    "data_path = Path(\"dataset/CRWU/CRWU1/C1_0.mat\")"
   ]
  },
  {
   "cell_type": "code",
   "execution_count": 32,
   "metadata": {},
   "outputs": [],
   "source": [
    "data = scipy.io.loadmat(str(data_path))[\"C1_0\"]"
   ]
  },
  {
   "cell_type": "code",
   "execution_count": 33,
   "metadata": {},
   "outputs": [
    {
     "data": {
      "text/plain": [
       "(241, 2050)"
      ]
     },
     "execution_count": 33,
     "metadata": {},
     "output_type": "execute_result"
    }
   ],
   "source": [
    "data.shape"
   ]
  },
  {
   "cell_type": "code",
   "execution_count": 34,
   "metadata": {},
   "outputs": [],
   "source": [
    "labels = data[:, -1]"
   ]
  },
  {
   "cell_type": "code",
   "execution_count": 35,
   "metadata": {},
   "outputs": [
    {
     "data": {
      "text/plain": [
       "array([0., 0., 0., 0., 0., 0., 0., 0., 0., 0., 0., 0., 0., 0., 0., 0., 0.,\n",
       "       0., 0., 0., 0., 0., 0., 0., 0., 0., 0., 0., 0., 0., 0., 0., 0., 0.,\n",
       "       0., 0., 0., 0., 0., 0., 0., 1., 1., 1., 1., 1., 1., 1., 1., 1., 1.,\n",
       "       1., 1., 1., 1., 1., 1., 1., 1., 1., 1., 2., 2., 2., 2., 2., 2., 2.,\n",
       "       2., 2., 2., 2., 2., 2., 2., 2., 2., 2., 2., 2., 2., 3., 3., 3., 3.,\n",
       "       3., 3., 3., 3., 3., 3., 3., 3., 3., 3., 3., 3., 3., 3., 3., 3., 4.,\n",
       "       4., 4., 4., 4., 4., 4., 4., 4., 4., 4., 4., 4., 4., 4., 4., 4., 4.,\n",
       "       4., 4., 4., 4., 4., 4., 4., 4., 4., 4., 4., 4., 4., 4., 4., 4., 4.,\n",
       "       4., 4., 4., 4., 4., 4., 4., 4., 4., 4., 4., 4., 4., 4., 4., 4., 4.,\n",
       "       4., 4., 4., 4., 4., 4., 4., 4., 5., 5., 5., 5., 5., 5., 5., 5., 5.,\n",
       "       5., 5., 5., 5., 5., 5., 5., 5., 5., 5., 5., 6., 6., 6., 6., 6., 6.,\n",
       "       6., 6., 6., 6., 6., 6., 6., 6., 6., 6., 6., 6., 6., 6., 6., 6., 6.,\n",
       "       6., 6., 6., 6., 6., 6., 6., 6., 6., 6., 6., 6., 6., 6., 6., 6., 6.,\n",
       "       6., 6., 6., 6., 6., 6., 6., 6., 6., 6., 6., 6., 6., 6., 6., 6., 6.,\n",
       "       6., 6., 6.])"
      ]
     },
     "execution_count": 35,
     "metadata": {},
     "output_type": "execute_result"
    }
   ],
   "source": [
    "labels"
   ]
  }
 ],
 "metadata": {
  "kernelspec": {
   "display_name": ".venv",
   "language": "python",
   "name": "python3"
  },
  "language_info": {
   "codemirror_mode": {
    "name": "ipython",
    "version": 3
   },
   "file_extension": ".py",
   "mimetype": "text/x-python",
   "name": "python",
   "nbconvert_exporter": "python",
   "pygments_lexer": "ipython3",
   "version": "3.10.12"
  },
  "orig_nbformat": 4
 },
 "nbformat": 4,
 "nbformat_minor": 2
}
